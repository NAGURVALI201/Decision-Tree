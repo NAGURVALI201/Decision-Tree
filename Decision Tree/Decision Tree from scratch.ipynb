{
 "cells": [
  {
   "cell_type": "markdown",
   "id": "6557c6c5",
   "metadata": {},
   "source": [
    "## Import Statements"
   ]
  },
  {
   "cell_type": "code",
   "execution_count": 21,
   "id": "a62ae678",
   "metadata": {},
   "outputs": [],
   "source": [
    "import numpy as np\n",
    "import pandas as pd\n",
    "\n",
    "import matplotlib.pyplot as plt\n",
    "import seaborn as sns\n",
    "%matplotlib inline\n",
    "\n",
    "import random\n",
    "from pprint import pprint\n",
    "from graphviz import Digraph"
   ]
  },
  {
   "cell_type": "markdown",
   "id": "e7fe8f11",
   "metadata": {},
   "source": [
    "## Train-Test-Split"
   ]
  },
  {
   "cell_type": "code",
   "execution_count": 22,
   "id": "634661a0",
   "metadata": {},
   "outputs": [],
   "source": [
    "def train_test_split(df,test_size):\n",
    "    if isinstance(test_size,float):\n",
    "        test_size = round(test_size*len(df))\n",
    "    indices = df.index.tolist()\n",
    "    test_indices = random.sample(population=indices,k=test_size)\n",
    "\n",
    "    test_df = df.loc[test_indices]\n",
    "    train_df = df.drop(test_indices)\n",
    "\n",
    "    \n",
    "    return train_df,test_df"
   ]
  },
  {
   "cell_type": "markdown",
   "id": "234aa284",
   "metadata": {},
   "source": [
    "## Helper Functions"
   ]
  },
  {
   "cell_type": "markdown",
   "id": "01036b68",
   "metadata": {},
   "source": [
    "## Data pure?"
   ]
  },
  {
   "cell_type": "code",
   "execution_count": 23,
   "id": "d7943ba8",
   "metadata": {},
   "outputs": [],
   "source": [
    "def check_purity(data):\n",
    "    values = data[:,-1]\n",
    "    unique_values = np.unique(values)\n",
    "    if len(unique_values) == 1:\n",
    "        return True\n",
    "    else:\n",
    "        return False"
   ]
  },
  {
   "cell_type": "markdown",
   "id": "551c3149",
   "metadata": {},
   "source": [
    "## Classify"
   ]
  },
  {
   "cell_type": "code",
   "execution_count": 24,
   "id": "41ab3437",
   "metadata": {},
   "outputs": [],
   "source": [
    "def classify(data):\n",
    "    \"\"\"Returns the most dominant classifier in the dataset.\"\"\"\n",
    "    label_column = data[:,-1]\n",
    "    unique_classes ,counts_unique_classes = np.unique(label_column,return_counts=True)\n",
    "    index = counts_unique_classes.argmax()\n",
    "    classification = unique_classes[index]\n",
    "    return classification\n",
    "\n",
    "# print(classify.__doc__) #get documentation in the string."
   ]
  },
  {
   "cell_type": "markdown",
   "id": "e605b5a4",
   "metadata": {},
   "source": [
    "## Potential splits?\n"
   ]
  },
  {
   "cell_type": "code",
   "execution_count": 25,
   "id": "d454782b",
   "metadata": {},
   "outputs": [],
   "source": [
    "def get_potential_splits(data):\n",
    "    potential_splits = {}\n",
    "    _,n_columns = data.shape\n",
    "\n",
    "    for column_index in range(n_columns-1):\n",
    "        values = data[:,column_index]\n",
    "        unique_values = np.unique(values)\n",
    "        \n",
    "        type_of_feature = FEATURE_TYPES[column_index]\n",
    "        \n",
    "        potential_splits[column_index] = unique_values\n",
    "                \n",
    "    return potential_splits"
   ]
  },
  {
   "cell_type": "markdown",
   "id": "81a9d5c6",
   "metadata": {},
   "source": [
    "## Split data"
   ]
  },
  {
   "cell_type": "code",
   "execution_count": 26,
   "id": "799c8b4b",
   "metadata": {},
   "outputs": [],
   "source": [
    "def split_data(data,split_column,split_value):\n",
    "    split_column_values = data[:,split_column]\n",
    "    \n",
    "    type_of_feature = FEATURE_TYPES[split_column]\n",
    "    \n",
    "    if type_of_feature == \"continuous\":\n",
    "        data_below = data[split_column_values <= split_value]\n",
    "        data_above = data[split_column_values > split_value]\n",
    "    else:\n",
    "        data_below = data[split_column_values == split_value]\n",
    "        data_above = data[split_column_values != split_value]\n",
    "    \n",
    "    return data_below , data_above"
   ]
  },
  {
   "cell_type": "markdown",
   "id": "fcfcd99b",
   "metadata": {},
   "source": [
    "## Lowest Overall Entropy?"
   ]
  },
  {
   "cell_type": "code",
   "execution_count": 27,
   "id": "19c5db1f",
   "metadata": {},
   "outputs": [],
   "source": [
    "def calculate_entropy(data):\n",
    "    label_column = data[:,-1]\n",
    "    _,counts = np.unique(label_column,return_counts=True)\n",
    "\n",
    "    probabilities = counts / counts.sum()\n",
    "\n",
    "    entropy = sum(probabilities * -np.log2(probabilities))\n",
    "    \n",
    "    return entropy"
   ]
  },
  {
   "cell_type": "code",
   "execution_count": 28,
   "id": "af73bdb3",
   "metadata": {},
   "outputs": [],
   "source": [
    "def calculate_overall_entropy(data_below,data_above):\n",
    "    n_data_points = len(data_below) + len(data_above)\n",
    "\n",
    "    p_data_below = len(data_below) / n_data_points\n",
    "    p_data_above = len(data_above) / n_data_points\n",
    "\n",
    "    overall_entropy = (p_data_below * calculate_entropy(data_below) + p_data_above * calculate_entropy(data_above))\n",
    "\n",
    "    return overall_entropy"
   ]
  },
  {
   "cell_type": "markdown",
   "id": "5b1c1572",
   "metadata": {},
   "source": [
    "## Best Split"
   ]
  },
  {
   "cell_type": "code",
   "execution_count": 29,
   "id": "da98cf1b",
   "metadata": {},
   "outputs": [],
   "source": [
    "def determine_best_split(data,potential_splits):\n",
    "    \n",
    "    overall_entropy = 9999\n",
    "    for column_index in potential_splits:\n",
    "        for value in potential_splits[column_index]:\n",
    "            data_below , data_above = split_data(data,split_column = column_index,split_value = value)\n",
    "            current_overall_entropy = calculate_overall_entropy(data_below , data_above)\n",
    "\n",
    "            if current_overall_entropy <= overall_entropy:\n",
    "                overall_entropy = current_overall_entropy\n",
    "                best_split_column = column_index\n",
    "                best_split_value = value\n",
    "    return best_split_column , best_split_value"
   ]
  },
  {
   "cell_type": "markdown",
   "id": "dd6fd923",
   "metadata": {},
   "source": [
    "### Determine Type of Feature"
   ]
  },
  {
   "cell_type": "code",
   "execution_count": 30,
   "id": "6455514c",
   "metadata": {},
   "outputs": [],
   "source": [
    "def determine_type_of_feature(df):\n",
    "    feature_types = []\n",
    "    n_unique_values_threshold = 15\n",
    "    \n",
    "    for column in df.columns:\n",
    "        unique_values = df[column].unique()\n",
    "        example_values = unique_values[0]\n",
    "        \n",
    "        if isinstance(example_values,str) or (len(unique_values) <= n_unique_values_threshold):\n",
    "            feature_types.append(\"categorical\")\n",
    "        else:\n",
    "            feature_types.append(\"continuous\")\n",
    "    \n",
    "    return feature_types\n"
   ]
  },
  {
   "cell_type": "markdown",
   "id": "0cb5312d",
   "metadata": {},
   "source": [
    "## Decision Tree Algorithm"
   ]
  },
  {
   "cell_type": "markdown",
   "id": "13bff706",
   "metadata": {},
   "source": [
    "## Representation of Decision Tree"
   ]
  },
  {
   "cell_type": "raw",
   "id": "e495dbb4",
   "metadata": {},
   "source": [
    "sub_tree = { question : [ yes_answer , no_answer ] }"
   ]
  },
  {
   "cell_type": "markdown",
   "id": "4a6435cb",
   "metadata": {},
   "source": [
    "## Algorithm"
   ]
  },
  {
   "cell_type": "code",
   "execution_count": 31,
   "id": "f957031d",
   "metadata": {},
   "outputs": [],
   "source": [
    "def decision_tree_algorithm(df,counter=0,min_samples = 2 , max_depth = 5):\n",
    "    \n",
    "    # data preparations.\n",
    "    if counter == 0:\n",
    "        global COLUMN_HEADERS,FEATURE_TYPES\n",
    "        COLUMN_HEADERS = df.columns\n",
    "        FEATURE_TYPES = determine_type_of_feature(df)\n",
    "        data = df.values\n",
    "    else:\n",
    "        data = df\n",
    "    \n",
    "    # base case\n",
    "    \n",
    "    if (check_purity(data)) or (len(data) < min_samples) or (counter == max_depth): \n",
    "        classification = classify(data)\n",
    "        return classification\n",
    "\n",
    "    # recursive part\n",
    "    else:\n",
    "        counter += 1\n",
    "        \n",
    "        # helper functions\n",
    "        potential_splits = get_potential_splits(data)\n",
    "        \n",
    "        split_column,split_value = determine_best_split(data,potential_splits)\n",
    "        \n",
    "        data_below,data_above = split_data(data,split_column,split_value)\n",
    "        \n",
    "        if len(data_below) == 0 or len(data_above) == 0:\n",
    "            \"\"\"If the data is empty just classify the dominant one as result.\"\"\"\n",
    "            classification = classify(data)\n",
    "            return classification\n",
    "        \n",
    "        # creating sub tree\n",
    "        feature_name = COLUMN_HEADERS[split_column]\n",
    "        type_of_feature = FEATURE_TYPES[split_column]\n",
    "        if type_of_feature == \"continuous\":\n",
    "            question = f\"{feature_name} <= {split_value}\"\n",
    "        else:\n",
    "            question = f\"{feature_name} = {split_value}\"\n",
    "            \n",
    "        sub_tree = {question:[]}\n",
    "        \n",
    "        # find answers(recursion)\n",
    "        \n",
    "        yes_answer  = decision_tree_algorithm(data_below , counter, min_samples, max_depth)\n",
    "        no_answer = decision_tree_algorithm(data_above , counter, min_samples, max_depth)\n",
    "        # checking both answer are same or not\n",
    "        \n",
    "        if yes_answer == no_answer :\n",
    "            sub_tree = yes_answer\n",
    "        else:\n",
    "            sub_tree[question].append(yes_answer)\n",
    "            sub_tree[question].append(no_answer)\n",
    "        \n",
    "        return sub_tree\n",
    "        \n",
    "    "
   ]
  },
  {
   "cell_type": "markdown",
   "id": "d2b1a5e7",
   "metadata": {},
   "source": [
    "## Classification"
   ]
  },
  {
   "cell_type": "code",
   "execution_count": 32,
   "id": "46a0d765",
   "metadata": {},
   "outputs": [],
   "source": [
    "def classify_example(example,tree):\n",
    "    question = list(tree.keys())[0]\n",
    "\n",
    "    feature_name, comparison_operator, value = question.split()\n",
    "    if comparison_operator == \"<=\":\n",
    "        if example[feature_name] <= float(value):\n",
    "            answer = tree[question][0]\n",
    "        else:\n",
    "            answer = tree[question][1]\n",
    "    else:\n",
    "        if str(example[feature_name]) == value:\n",
    "            answer = tree[question][0]\n",
    "        else:\n",
    "            answer = tree[question][1]\n",
    "\n",
    "\n",
    "    if not isinstance(answer,dict):\n",
    "        return answer\n",
    "    # recursive part\n",
    "    else:\n",
    "        reduced_tree = answer\n",
    "        return classify_example(example,reduced_tree)"
   ]
  },
  {
   "cell_type": "markdown",
   "id": "0f7c0a83",
   "metadata": {},
   "source": [
    "## Accuracy Function"
   ]
  },
  {
   "cell_type": "code",
   "execution_count": 33,
   "id": "12bf50d7",
   "metadata": {},
   "outputs": [],
   "source": [
    "def calculate_accuracy(df,tree):\n",
    "    \n",
    "    df[\"classification\"] = df.apply(classify_example,axis=1,args=(tree,))\n",
    "    df[\"classification_correct\"] = df.classification == df.label\n",
    "    \n",
    "    accuracy = df.classification_correct.mean()\n",
    "    \n",
    "    return accuracy"
   ]
  },
  {
   "cell_type": "markdown",
   "id": "3e3ead31",
   "metadata": {},
   "source": [
    "### Building Tree Diagram"
   ]
  },
  {
   "cell_type": "code",
   "execution_count": 34,
   "id": "0e522722",
   "metadata": {},
   "outputs": [],
   "source": [
    "def build_tree(tree):\n",
    "    \n",
    "    global tree_diagram\n",
    "    global unique_suffix\n",
    "    \n",
    "    ## base case.\n",
    "    if type(tree) != dict:\n",
    "        \n",
    "        ## if type is integer then return the the value.\n",
    "        value = str(tree)\n",
    "        node_name = str(next(unique_suffix))+value\n",
    "        tree_diagram.node(node_name,value)\n",
    "        \n",
    "        return node_name\n",
    "    \n",
    "    ## recursive part.\n",
    "    \n",
    "    ## finding the root node name.\n",
    "    root_element_name = list(tree.keys())[0]\n",
    "    ## unique name for every node without collapsing.\n",
    "    unique_index = str(next(unique_suffix))\n",
    "    ## unique root name\n",
    "    root_name = root_element_name + unique_index\n",
    "    ## creating the root node.\n",
    "    tree_diagram.node(root_name,root_element_name)\n",
    "    \n",
    "    ## finding its left and right node values.\n",
    "    left_node_value = tree[root_element_name][0]\n",
    "    right_node_value = tree[root_element_name][1]\n",
    "    \n",
    "    ## for the left sub tree.\n",
    "    left_node_attrib_name = build_tree(left_node_value)## recursive call for the left sub tree.\n",
    "    tree_diagram.edge(root_name,left_node_attrib_name,label=\"yes\")## joining the node with parent node add edges name to it.\n",
    "\n",
    "        \n",
    "    ## for the right sub tree.\n",
    "    right_node_attrib_name = build_tree(right_node_value)## recursive call for right sub tree.\n",
    "    tree_diagram.edge(root_name,right_node_attrib_name,label=\"no\")## joining the node with the parent node and adding edge name to it.\n",
    "   \n",
    "        \n",
    "    return root_name"
   ]
  },
  {
   "cell_type": "markdown",
   "id": "9b95f7cc",
   "metadata": {},
   "source": [
    "### Prepare and Load Data"
   ]
  },
  {
   "cell_type": "code",
   "execution_count": 35,
   "id": "9eede05f",
   "metadata": {},
   "outputs": [],
   "source": [
    "df = pd.read_csv(\"iris.csv\")"
   ]
  },
  {
   "cell_type": "markdown",
   "id": "d0d50345",
   "metadata": {},
   "source": [
    "## Decision Tree Algorithm"
   ]
  },
  {
   "cell_type": "markdown",
   "id": "cdfc4c3d",
   "metadata": {},
   "source": [
    "### spliting the data"
   ]
  },
  {
   "cell_type": "code",
   "execution_count": 36,
   "id": "27116bdd",
   "metadata": {},
   "outputs": [],
   "source": [
    "train_df,test_df = train_test_split(df,test_size = .2)"
   ]
  },
  {
   "cell_type": "markdown",
   "id": "6d5ae58c",
   "metadata": {},
   "source": [
    "### Implementation of the data"
   ]
  },
  {
   "cell_type": "code",
   "execution_count": 37,
   "id": "4f3bcbf4",
   "metadata": {},
   "outputs": [
    {
     "name": "stdout",
     "output_type": "stream",
     "text": [
      "{'petal_width <= 0.6': ['Iris-setosa',\n",
      "                        {'petal_width <= 1.6': [{'petal_length <= 4.9': ['Iris-versicolor',\n",
      "                                                                         {'petal_width <= 1.5': ['Iris-virginica',\n",
      "                                                                                                 'Iris-versicolor']}]},\n",
      "                                                {'petal_length <= 4.8': [{'sepal_width <= 3.0': ['Iris-virginica',\n",
      "                                                                                                 'Iris-versicolor']},\n",
      "                                                                         'Iris-virginica']}]}]}\n"
     ]
    }
   ],
   "source": [
    "# setting the random seed.\n",
    "random.seed(0)\n",
    "tree = decision_tree_algorithm(train_df,max_depth = 4)\n",
    "pprint(tree,width = 50)"
   ]
  },
  {
   "cell_type": "markdown",
   "id": "fbae5596",
   "metadata": {},
   "source": [
    "### calculation of the accuracy"
   ]
  },
  {
   "cell_type": "code",
   "execution_count": 38,
   "id": "6601f915",
   "metadata": {},
   "outputs": [
    {
     "name": "stdout",
     "output_type": "stream",
     "text": [
      "0.9333333333333333\n"
     ]
    }
   ],
   "source": [
    "accuracy = calculate_accuracy(test_df,tree)\n",
    "print(accuracy)"
   ]
  },
  {
   "cell_type": "markdown",
   "id": "ce1fe77c",
   "metadata": {},
   "source": [
    "### Tree Diagram"
   ]
  },
  {
   "cell_type": "code",
   "execution_count": 39,
   "id": "87f9ecd9",
   "metadata": {},
   "outputs": [
    {
     "data": {
      "image/svg+xml": [
       "<?xml version=\"1.0\" encoding=\"UTF-8\" standalone=\"no\"?>\n",
       "<!DOCTYPE svg PUBLIC \"-//W3C//DTD SVG 1.1//EN\"\n",
       " \"http://www.w3.org/Graphics/SVG/1.1/DTD/svg11.dtd\">\n",
       "<!-- Generated by graphviz version 6.0.1 (20220911.1526)\n",
       " -->\n",
       "<!-- Pages: 1 -->\n",
       "<svg width=\"620pt\" height=\"392pt\"\n",
       " viewBox=\"0.00 0.00 619.64 392.00\" xmlns=\"http://www.w3.org/2000/svg\" xmlns:xlink=\"http://www.w3.org/1999/xlink\">\n",
       "<g id=\"graph0\" class=\"graph\" transform=\"scale(1 1) rotate(0) translate(4 388)\">\n",
       "<polygon fill=\"white\" stroke=\"none\" points=\"-4,4 -4,-388 615.64,-388 615.64,4 -4,4\"/>\n",
       "<!-- petal_width &lt;= 0.60 -->\n",
       "<g id=\"node1\" class=\"node\">\n",
       "<title>petal_width &lt;= 0.60</title>\n",
       "<ellipse fill=\"none\" stroke=\"black\" cx=\"203.74\" cy=\"-366\" rx=\"79.09\" ry=\"18\"/>\n",
       "<text text-anchor=\"middle\" x=\"203.74\" y=\"-362.3\" font-family=\"Times New Roman,serif\" font-size=\"14.00\">petal_width &lt;= 0.6</text>\n",
       "</g>\n",
       "<!-- 1Iris&#45;setosa -->\n",
       "<g id=\"node2\" class=\"node\">\n",
       "<title>1Iris&#45;setosa</title>\n",
       "<ellipse fill=\"none\" stroke=\"black\" cx=\"182.74\" cy=\"-279\" rx=\"48.19\" ry=\"18\"/>\n",
       "<text text-anchor=\"middle\" x=\"182.74\" y=\"-275.3\" font-family=\"Times New Roman,serif\" font-size=\"14.00\">Iris&#45;setosa</text>\n",
       "</g>\n",
       "<!-- petal_width &lt;= 0.60&#45;&gt;1Iris&#45;setosa -->\n",
       "<g id=\"edge1\" class=\"edge\">\n",
       "<title>petal_width &lt;= 0.60&#45;&gt;1Iris&#45;setosa</title>\n",
       "<path fill=\"none\" stroke=\"black\" d=\"M199.49,-347.8C196.62,-336.16 192.76,-320.55 189.47,-307.24\"/>\n",
       "<polygon fill=\"black\" stroke=\"black\" points=\"192.78,-306.04 186.99,-297.18 185.99,-307.72 192.78,-306.04\"/>\n",
       "<text text-anchor=\"middle\" x=\"204.24\" y=\"-318.8\" font-family=\"Times New Roman,serif\" font-size=\"14.00\">yes</text>\n",
       "</g>\n",
       "<!-- petal_width &lt;= 1.62 -->\n",
       "<g id=\"node3\" class=\"node\">\n",
       "<title>petal_width &lt;= 1.62</title>\n",
       "<ellipse fill=\"none\" stroke=\"black\" cx=\"327.74\" cy=\"-279\" rx=\"79.09\" ry=\"18\"/>\n",
       "<text text-anchor=\"middle\" x=\"327.74\" y=\"-275.3\" font-family=\"Times New Roman,serif\" font-size=\"14.00\">petal_width &lt;= 1.6</text>\n",
       "</g>\n",
       "<!-- petal_width &lt;= 0.60&#45;&gt;petal_width &lt;= 1.62 -->\n",
       "<g id=\"edge12\" class=\"edge\">\n",
       "<title>petal_width &lt;= 0.60&#45;&gt;petal_width &lt;= 1.62</title>\n",
       "<path fill=\"none\" stroke=\"black\" d=\"M227.36,-348.81C246.63,-335.6 274.05,-316.8 295.37,-302.19\"/>\n",
       "<polygon fill=\"black\" stroke=\"black\" points=\"297.53,-304.96 303.79,-296.42 293.57,-299.18 297.53,-304.96\"/>\n",
       "<text text-anchor=\"middle\" x=\"281.24\" y=\"-318.8\" font-family=\"Times New Roman,serif\" font-size=\"14.00\">no</text>\n",
       "</g>\n",
       "<!-- petal_length &lt;= 4.93 -->\n",
       "<g id=\"node4\" class=\"node\">\n",
       "<title>petal_length &lt;= 4.93</title>\n",
       "<ellipse fill=\"none\" stroke=\"black\" cx=\"220.74\" cy=\"-192\" rx=\"81.49\" ry=\"18\"/>\n",
       "<text text-anchor=\"middle\" x=\"220.74\" y=\"-188.3\" font-family=\"Times New Roman,serif\" font-size=\"14.00\">petal_length &lt;= 4.9</text>\n",
       "</g>\n",
       "<!-- petal_width &lt;= 1.62&#45;&gt;petal_length &lt;= 4.93 -->\n",
       "<g id=\"edge6\" class=\"edge\">\n",
       "<title>petal_width &lt;= 1.62&#45;&gt;petal_length &lt;= 4.93</title>\n",
       "<path fill=\"none\" stroke=\"black\" d=\"M307.11,-261.61C290.79,-248.64 267.8,-230.38 249.64,-215.95\"/>\n",
       "<polygon fill=\"black\" stroke=\"black\" points=\"251.68,-213.11 241.68,-209.63 247.33,-218.59 251.68,-213.11\"/>\n",
       "<text text-anchor=\"middle\" x=\"290.24\" y=\"-231.8\" font-family=\"Times New Roman,serif\" font-size=\"14.00\">yes</text>\n",
       "</g>\n",
       "<!-- petal_length &lt;= 4.88 -->\n",
       "<g id=\"node9\" class=\"node\">\n",
       "<title>petal_length &lt;= 4.88</title>\n",
       "<ellipse fill=\"none\" stroke=\"black\" cx=\"400.74\" cy=\"-192\" rx=\"81.49\" ry=\"18\"/>\n",
       "<text text-anchor=\"middle\" x=\"400.74\" y=\"-188.3\" font-family=\"Times New Roman,serif\" font-size=\"14.00\">petal_length &lt;= 4.8</text>\n",
       "</g>\n",
       "<!-- petal_width &lt;= 1.62&#45;&gt;petal_length &lt;= 4.88 -->\n",
       "<g id=\"edge11\" class=\"edge\">\n",
       "<title>petal_width &lt;= 1.62&#45;&gt;petal_length &lt;= 4.88</title>\n",
       "<path fill=\"none\" stroke=\"black\" d=\"M342.17,-261.21C352.87,-248.75 367.62,-231.57 379.64,-217.57\"/>\n",
       "<polygon fill=\"black\" stroke=\"black\" points=\"382.49,-219.63 386.35,-209.76 377.18,-215.06 382.49,-219.63\"/>\n",
       "<text text-anchor=\"middle\" x=\"376.24\" y=\"-231.8\" font-family=\"Times New Roman,serif\" font-size=\"14.00\">no</text>\n",
       "</g>\n",
       "<!-- 4Iris&#45;versicolor -->\n",
       "<g id=\"node5\" class=\"node\">\n",
       "<title>4Iris&#45;versicolor</title>\n",
       "<ellipse fill=\"none\" stroke=\"black\" cx=\"61.74\" cy=\"-105\" rx=\"61.99\" ry=\"18\"/>\n",
       "<text text-anchor=\"middle\" x=\"61.74\" y=\"-101.3\" font-family=\"Times New Roman,serif\" font-size=\"14.00\">Iris&#45;versicolor</text>\n",
       "</g>\n",
       "<!-- petal_length &lt;= 4.93&#45;&gt;4Iris&#45;versicolor -->\n",
       "<g id=\"edge2\" class=\"edge\">\n",
       "<title>petal_length &lt;= 4.93&#45;&gt;4Iris&#45;versicolor</title>\n",
       "<path fill=\"none\" stroke=\"black\" d=\"M191.21,-175.21C165.23,-161.32 127.28,-141.03 99.17,-126.01\"/>\n",
       "<polygon fill=\"black\" stroke=\"black\" points=\"100.52,-122.76 90.05,-121.13 97.22,-128.93 100.52,-122.76\"/>\n",
       "<text text-anchor=\"middle\" x=\"161.24\" y=\"-144.8\" font-family=\"Times New Roman,serif\" font-size=\"14.00\">yes</text>\n",
       "</g>\n",
       "<!-- petal_width &lt;= 1.55 -->\n",
       "<g id=\"node6\" class=\"node\">\n",
       "<title>petal_width &lt;= 1.55</title>\n",
       "<ellipse fill=\"none\" stroke=\"black\" cx=\"220.74\" cy=\"-105\" rx=\"79.09\" ry=\"18\"/>\n",
       "<text text-anchor=\"middle\" x=\"220.74\" y=\"-101.3\" font-family=\"Times New Roman,serif\" font-size=\"14.00\">petal_width &lt;= 1.5</text>\n",
       "</g>\n",
       "<!-- petal_length &lt;= 4.93&#45;&gt;petal_width &lt;= 1.55 -->\n",
       "<g id=\"edge5\" class=\"edge\">\n",
       "<title>petal_length &lt;= 4.93&#45;&gt;petal_width &lt;= 1.55</title>\n",
       "<path fill=\"none\" stroke=\"black\" d=\"M220.74,-173.8C220.74,-162.16 220.74,-146.55 220.74,-133.24\"/>\n",
       "<polygon fill=\"black\" stroke=\"black\" points=\"224.24,-133.18 220.74,-123.18 217.24,-133.18 224.24,-133.18\"/>\n",
       "<text text-anchor=\"middle\" x=\"228.24\" y=\"-144.8\" font-family=\"Times New Roman,serif\" font-size=\"14.00\">no</text>\n",
       "</g>\n",
       "<!-- 6Iris&#45;virginica -->\n",
       "<g id=\"node7\" class=\"node\">\n",
       "<title>6Iris&#45;virginica</title>\n",
       "<ellipse fill=\"none\" stroke=\"black\" cx=\"95.74\" cy=\"-18\" rx=\"55.79\" ry=\"18\"/>\n",
       "<text text-anchor=\"middle\" x=\"95.74\" y=\"-14.3\" font-family=\"Times New Roman,serif\" font-size=\"14.00\">Iris&#45;virginica</text>\n",
       "</g>\n",
       "<!-- petal_width &lt;= 1.55&#45;&gt;6Iris&#45;virginica -->\n",
       "<g id=\"edge3\" class=\"edge\">\n",
       "<title>petal_width &lt;= 1.55&#45;&gt;6Iris&#45;virginica</title>\n",
       "<path fill=\"none\" stroke=\"black\" d=\"M196.94,-87.81C177.14,-74.35 148.8,-55.08 127.15,-40.35\"/>\n",
       "<polygon fill=\"black\" stroke=\"black\" points=\"128.86,-37.28 118.62,-34.55 124.92,-43.07 128.86,-37.28\"/>\n",
       "<text text-anchor=\"middle\" x=\"175.24\" y=\"-57.8\" font-family=\"Times New Roman,serif\" font-size=\"14.00\">yes</text>\n",
       "</g>\n",
       "<!-- 7Iris&#45;versicolor -->\n",
       "<g id=\"node8\" class=\"node\">\n",
       "<title>7Iris&#45;versicolor</title>\n",
       "<ellipse fill=\"none\" stroke=\"black\" cx=\"231.74\" cy=\"-18\" rx=\"61.99\" ry=\"18\"/>\n",
       "<text text-anchor=\"middle\" x=\"231.74\" y=\"-14.3\" font-family=\"Times New Roman,serif\" font-size=\"14.00\">Iris&#45;versicolor</text>\n",
       "</g>\n",
       "<!-- petal_width &lt;= 1.55&#45;&gt;7Iris&#45;versicolor -->\n",
       "<g id=\"edge4\" class=\"edge\">\n",
       "<title>petal_width &lt;= 1.55&#45;&gt;7Iris&#45;versicolor</title>\n",
       "<path fill=\"none\" stroke=\"black\" d=\"M222.97,-86.8C224.48,-75.16 226.5,-59.55 228.22,-46.24\"/>\n",
       "<polygon fill=\"black\" stroke=\"black\" points=\"231.71,-46.54 229.52,-36.18 224.77,-45.64 231.71,-46.54\"/>\n",
       "<text text-anchor=\"middle\" x=\"235.24\" y=\"-57.8\" font-family=\"Times New Roman,serif\" font-size=\"14.00\">no</text>\n",
       "</g>\n",
       "<!-- sepal_width &lt;= 3.09 -->\n",
       "<g id=\"node10\" class=\"node\">\n",
       "<title>sepal_width &lt;= 3.09</title>\n",
       "<ellipse fill=\"none\" stroke=\"black\" cx=\"400.74\" cy=\"-105\" rx=\"81.49\" ry=\"18\"/>\n",
       "<text text-anchor=\"middle\" x=\"400.74\" y=\"-101.3\" font-family=\"Times New Roman,serif\" font-size=\"14.00\">sepal_width &lt;= 3.0</text>\n",
       "</g>\n",
       "<!-- petal_length &lt;= 4.88&#45;&gt;sepal_width &lt;= 3.09 -->\n",
       "<g id=\"edge9\" class=\"edge\">\n",
       "<title>petal_length &lt;= 4.88&#45;&gt;sepal_width &lt;= 3.09</title>\n",
       "<path fill=\"none\" stroke=\"black\" d=\"M400.74,-173.8C400.74,-162.16 400.74,-146.55 400.74,-133.24\"/>\n",
       "<polygon fill=\"black\" stroke=\"black\" points=\"404.24,-133.18 400.74,-123.18 397.24,-133.18 404.24,-133.18\"/>\n",
       "<text text-anchor=\"middle\" x=\"410.24\" y=\"-144.8\" font-family=\"Times New Roman,serif\" font-size=\"14.00\">yes</text>\n",
       "</g>\n",
       "<!-- 12Iris&#45;virginica -->\n",
       "<g id=\"node13\" class=\"node\">\n",
       "<title>12Iris&#45;virginica</title>\n",
       "<ellipse fill=\"none\" stroke=\"black\" cx=\"555.74\" cy=\"-105\" rx=\"55.79\" ry=\"18\"/>\n",
       "<text text-anchor=\"middle\" x=\"555.74\" y=\"-101.3\" font-family=\"Times New Roman,serif\" font-size=\"14.00\">Iris&#45;virginica</text>\n",
       "</g>\n",
       "<!-- petal_length &lt;= 4.88&#45;&gt;12Iris&#45;virginica -->\n",
       "<g id=\"edge10\" class=\"edge\">\n",
       "<title>petal_length &lt;= 4.88&#45;&gt;12Iris&#45;virginica</title>\n",
       "<path fill=\"none\" stroke=\"black\" d=\"M429.9,-175.01C455.43,-161.01 492.61,-140.62 519.94,-125.64\"/>\n",
       "<polygon fill=\"black\" stroke=\"black\" points=\"521.71,-128.66 528.8,-120.78 518.34,-122.52 521.71,-128.66\"/>\n",
       "<text text-anchor=\"middle\" x=\"495.24\" y=\"-144.8\" font-family=\"Times New Roman,serif\" font-size=\"14.00\">no</text>\n",
       "</g>\n",
       "<!-- 10Iris&#45;virginica -->\n",
       "<g id=\"node11\" class=\"node\">\n",
       "<title>10Iris&#45;virginica</title>\n",
       "<ellipse fill=\"none\" stroke=\"black\" cx=\"389.74\" cy=\"-18\" rx=\"55.79\" ry=\"18\"/>\n",
       "<text text-anchor=\"middle\" x=\"389.74\" y=\"-14.3\" font-family=\"Times New Roman,serif\" font-size=\"14.00\">Iris&#45;virginica</text>\n",
       "</g>\n",
       "<!-- sepal_width &lt;= 3.09&#45;&gt;10Iris&#45;virginica -->\n",
       "<g id=\"edge7\" class=\"edge\">\n",
       "<title>sepal_width &lt;= 3.09&#45;&gt;10Iris&#45;virginica</title>\n",
       "<path fill=\"none\" stroke=\"black\" d=\"M398.52,-86.8C397.01,-75.16 394.99,-59.55 393.27,-46.24\"/>\n",
       "<polygon fill=\"black\" stroke=\"black\" points=\"396.72,-45.64 391.97,-36.18 389.78,-46.54 396.72,-45.64\"/>\n",
       "<text text-anchor=\"middle\" x=\"406.24\" y=\"-57.8\" font-family=\"Times New Roman,serif\" font-size=\"14.00\">yes</text>\n",
       "</g>\n",
       "<!-- 11Iris&#45;versicolor -->\n",
       "<g id=\"node12\" class=\"node\">\n",
       "<title>11Iris&#45;versicolor</title>\n",
       "<ellipse fill=\"none\" stroke=\"black\" cx=\"525.74\" cy=\"-18\" rx=\"61.99\" ry=\"18\"/>\n",
       "<text text-anchor=\"middle\" x=\"525.74\" y=\"-14.3\" font-family=\"Times New Roman,serif\" font-size=\"14.00\">Iris&#45;versicolor</text>\n",
       "</g>\n",
       "<!-- sepal_width &lt;= 3.09&#45;&gt;11Iris&#45;versicolor -->\n",
       "<g id=\"edge8\" class=\"edge\">\n",
       "<title>sepal_width &lt;= 3.09&#45;&gt;11Iris&#45;versicolor</title>\n",
       "<path fill=\"none\" stroke=\"black\" d=\"M424.85,-87.61C444.55,-74.21 472.57,-55.16 494.08,-40.53\"/>\n",
       "<polygon fill=\"black\" stroke=\"black\" points=\"496.26,-43.28 502.56,-34.76 492.33,-37.49 496.26,-43.28\"/>\n",
       "<text text-anchor=\"middle\" x=\"478.24\" y=\"-57.8\" font-family=\"Times New Roman,serif\" font-size=\"14.00\">no</text>\n",
       "</g>\n",
       "</g>\n",
       "</svg>\n"
      ],
      "text/plain": [
       "<graphviz.graphs.Digraph at 0x2026155cc10>"
      ]
     },
     "execution_count": 39,
     "metadata": {},
     "output_type": "execute_result"
    }
   ],
   "source": [
    "## To get unique name for node.\n",
    "unique_suffix = iter(np.arange(10000)) \n",
    "## intialize the object.\n",
    "tree_diagram = Digraph()\n",
    "build_tree(tree)\n",
    "tree_diagram"
   ]
  },
  {
   "cell_type": "code",
   "execution_count": 40,
   "id": "72dfdde2",
   "metadata": {},
   "outputs": [],
   "source": [
    "# tree_diagram.render('Titanic.gv',view = True)"
   ]
  },
  {
   "cell_type": "code",
   "execution_count": null,
   "id": "63fedb08",
   "metadata": {},
   "outputs": [],
   "source": []
  },
  {
   "cell_type": "code",
   "execution_count": null,
   "id": "1279c02e",
   "metadata": {},
   "outputs": [],
   "source": []
  },
  {
   "cell_type": "code",
   "execution_count": null,
   "id": "a92e2e9d",
   "metadata": {},
   "outputs": [],
   "source": []
  },
  {
   "cell_type": "code",
   "execution_count": null,
   "id": "e0c1b53c",
   "metadata": {},
   "outputs": [],
   "source": []
  },
  {
   "cell_type": "code",
   "execution_count": null,
   "id": "43f750c5",
   "metadata": {},
   "outputs": [],
   "source": []
  }
 ],
 "metadata": {
  "kernelspec": {
   "display_name": "Python 3 (ipykernel)",
   "language": "python",
   "name": "python3"
  },
  "language_info": {
   "codemirror_mode": {
    "name": "ipython",
    "version": 3
   },
   "file_extension": ".py",
   "mimetype": "text/x-python",
   "name": "python",
   "nbconvert_exporter": "python",
   "pygments_lexer": "ipython3",
   "version": "3.8.13"
  }
 },
 "nbformat": 4,
 "nbformat_minor": 5
}
